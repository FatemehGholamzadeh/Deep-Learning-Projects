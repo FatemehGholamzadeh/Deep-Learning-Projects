{
  "nbformat": 4,
  "nbformat_minor": 0,
  "metadata": {
    "colab": {
      "name": "ANN_HW05.ipynb",
      "provenance": [],
      "collapsed_sections": []
    },
    "kernelspec": {
      "name": "python3",
      "display_name": "Python 3"
    },
    "language_info": {
      "name": "python"
    },
    "accelerator": "GPU"
  },
  "cells": [
    {
      "cell_type": "code",
      "execution_count": 1,
      "metadata": {
        "id": "XgfhbbC4za6O"
      },
      "outputs": [],
      "source": [
        "from __future__ import absolute_import, division, print_function\n",
        "\n",
        "import tensorflow as tf\n",
        "\n",
        "import tensorflow.keras.backend as K\n",
        "from tensorflow.keras.models import load_model\n",
        "from tensorflow.keras.preprocessing import image\n",
        "from tensorflow.keras import regularizers\n",
        "from tensorflow.keras.applications.inception_v3 import InceptionV3\n",
        "from tensorflow.keras.applications.densenet import DenseNet121,DenseNet169,DenseNet201\n",
        "from tensorflow.keras.models import Model\n",
        "from tensorflow.keras.layers import Dense, Dropout\n",
        "from tensorflow.keras.layers import GlobalAveragePooling2D\n",
        "from tensorflow.keras.preprocessing.image import ImageDataGenerator\n",
        "from tensorflow.keras.callbacks import ModelCheckpoint, CSVLogger\n",
        "from tensorflow.keras.optimizers import SGD\n",
        "from tensorflow.keras.regularizers import l2\n",
        "\n",
        "from tensorflow import keras\n",
        "from tensorflow.keras import models\n",
        "from tensorflow.keras.applications.inception_v3 import preprocess_input\n",
        "\n",
        "import cv2\n",
        "import os\n",
        "import random\n",
        "import collections\n",
        "from collections import defaultdict\n",
        "\n",
        "from shutil import copy\n",
        "from shutil import copytree, rmtree\n",
        "\n",
        "import numpy as np\n",
        "\n",
        "import matplotlib.pyplot as plt\n",
        "import matplotlib.image as img\n",
        "%matplotlib inline"
      ]
    },
    {
      "cell_type": "code",
      "source": [
        "# Check TF version and whether GPU is enabled\n",
        "print(tf.__version__)\n",
        "print(tf.test.gpu_device_name())"
      ],
      "metadata": {
        "colab": {
          "base_uri": "https://localhost:8080/"
        },
        "id": "0I4V9_Iezkx7",
        "outputId": "6c7737fe-066d-400e-eaff-7ddb318ded99"
      },
      "execution_count": 2,
      "outputs": [
        {
          "output_type": "stream",
          "name": "stdout",
          "text": [
            "2.7.0\n",
            "/device:GPU:0\n"
          ]
        }
      ]
    },
    {
      "cell_type": "code",
      "source": [
        "# Helper function to download data and extract\n",
        "def get_data_extract():\n",
        "  if \"food-101\" in os.listdir():\n",
        "    print(\"Dataset already exists\")\n",
        "  else:\n",
        "    tf.keras.utils.get_file(\n",
        "    'food-101.tar.gz',\n",
        "    'http://data.vision.ee.ethz.ch/cvl/food-101.tar.gz',\n",
        "    cache_subdir='/content',\n",
        "    extract=True,\n",
        "    archive_format='tar',\n",
        "    cache_dir=None\n",
        "    )\n",
        "    print(\"Dataset downloaded and extracted!\")"
      ],
      "metadata": {
        "id": "77XQX_Q8znzy"
      },
      "execution_count": 3,
      "outputs": []
    },
    {
      "cell_type": "code",
      "source": [
        "# Download data and extract it to folder\n",
        "get_data_extract()"
      ],
      "metadata": {
        "colab": {
          "base_uri": "https://localhost:8080/"
        },
        "id": "UlPuO1Wuzt3L",
        "outputId": "3d3f7643-da46-4825-b4fd-bed406b93c41"
      },
      "execution_count": 4,
      "outputs": [
        {
          "output_type": "stream",
          "name": "stdout",
          "text": [
            "Downloading data from http://data.vision.ee.ethz.ch/cvl/food-101.tar.gz\n",
            "4996284416/4996278331 [==============================] - 198s 0us/step\n",
            "4996292608/4996278331 [==============================] - 198s 0us/step\n",
            "Dataset downloaded and extracted!\n"
          ]
        }
      ]
    },
    {
      "cell_type": "code",
      "source": [
        "data_dir = \"food-101/images/\"\n",
        "foods_sorted = sorted(os.listdir(data_dir))\n",
        "len(foods_sorted)"
      ],
      "metadata": {
        "colab": {
          "base_uri": "https://localhost:8080/"
        },
        "id": "bH8lEXzFzzVd",
        "outputId": "0992e00d-8b55-4cdf-bb74-8ccccb90beba"
      },
      "execution_count": 5,
      "outputs": [
        {
          "output_type": "execute_result",
          "data": {
            "text/plain": [
              "101"
            ]
          },
          "metadata": {},
          "execution_count": 5
        }
      ]
    },
    {
      "cell_type": "code",
      "source": [
        "# Helper method to split dataset into train and test folders\n",
        "def prepare_data(filepath, src,dest):\n",
        "  classes_images = defaultdict(list)\n",
        "  with open(filepath, 'r') as txt:\n",
        "      paths = [read.strip() for read in txt.readlines()]\n",
        "      for p in paths:\n",
        "        food = p.split('/')\n",
        "        classes_images[food[0]].append(food[1] + '.jpg')\n",
        "\n",
        "  for food in classes_images.keys():\n",
        "    print(\"\\nCopying images into \",food)\n",
        "    if not os.path.exists(os.path.join(dest,food)):\n",
        "      os.makedirs(os.path.join(dest,food))\n",
        "    for i in classes_images[food]:\n",
        "      copy(os.path.join(src,food,i), os.path.join(dest,food,i))\n",
        "  print(\"Copying Done!\")"
      ],
      "metadata": {
        "id": "ZWAM7thrz5Jb"
      },
      "execution_count": 6,
      "outputs": []
    },
    {
      "cell_type": "code",
      "source": [
        "# Prepare train dataset by copying images from food-101/images to food-101/train using the file train.txt\n",
        "print(\"Creating train data...\")\n",
        "prepare_data('food-101/meta/train.txt', 'food-101/images', 'food-101/train')"
      ],
      "metadata": {
        "colab": {
          "base_uri": "https://localhost:8080/"
        },
        "id": "45JBtyXgz6AL",
        "outputId": "c2d08483-15f1-42c8-c3f6-8869f6ecc7d3"
      },
      "execution_count": 7,
      "outputs": [
        {
          "output_type": "stream",
          "name": "stdout",
          "text": [
            "Creating train data...\n",
            "\n",
            "Copying images into  apple_pie\n",
            "\n",
            "Copying images into  baby_back_ribs\n",
            "\n",
            "Copying images into  baklava\n",
            "\n",
            "Copying images into  beef_carpaccio\n",
            "\n",
            "Copying images into  beef_tartare\n",
            "\n",
            "Copying images into  beet_salad\n",
            "\n",
            "Copying images into  beignets\n",
            "\n",
            "Copying images into  bibimbap\n",
            "\n",
            "Copying images into  bread_pudding\n",
            "\n",
            "Copying images into  breakfast_burrito\n",
            "\n",
            "Copying images into  bruschetta\n",
            "\n",
            "Copying images into  caesar_salad\n",
            "\n",
            "Copying images into  cannoli\n",
            "\n",
            "Copying images into  caprese_salad\n",
            "\n",
            "Copying images into  carrot_cake\n",
            "\n",
            "Copying images into  ceviche\n",
            "\n",
            "Copying images into  cheesecake\n",
            "\n",
            "Copying images into  cheese_plate\n",
            "\n",
            "Copying images into  chicken_curry\n",
            "\n",
            "Copying images into  chicken_quesadilla\n",
            "\n",
            "Copying images into  chicken_wings\n",
            "\n",
            "Copying images into  chocolate_cake\n",
            "\n",
            "Copying images into  chocolate_mousse\n",
            "\n",
            "Copying images into  churros\n",
            "\n",
            "Copying images into  clam_chowder\n",
            "\n",
            "Copying images into  club_sandwich\n",
            "\n",
            "Copying images into  crab_cakes\n",
            "\n",
            "Copying images into  creme_brulee\n",
            "\n",
            "Copying images into  croque_madame\n",
            "\n",
            "Copying images into  cup_cakes\n",
            "\n",
            "Copying images into  deviled_eggs\n",
            "\n",
            "Copying images into  donuts\n",
            "\n",
            "Copying images into  dumplings\n",
            "\n",
            "Copying images into  edamame\n",
            "\n",
            "Copying images into  eggs_benedict\n",
            "\n",
            "Copying images into  escargots\n",
            "\n",
            "Copying images into  falafel\n",
            "\n",
            "Copying images into  filet_mignon\n",
            "\n",
            "Copying images into  fish_and_chips\n",
            "\n",
            "Copying images into  foie_gras\n",
            "\n",
            "Copying images into  french_fries\n",
            "\n",
            "Copying images into  french_onion_soup\n",
            "\n",
            "Copying images into  french_toast\n",
            "\n",
            "Copying images into  fried_calamari\n",
            "\n",
            "Copying images into  fried_rice\n",
            "\n",
            "Copying images into  frozen_yogurt\n",
            "\n",
            "Copying images into  garlic_bread\n",
            "\n",
            "Copying images into  gnocchi\n",
            "\n",
            "Copying images into  greek_salad\n",
            "\n",
            "Copying images into  grilled_cheese_sandwich\n",
            "\n",
            "Copying images into  grilled_salmon\n",
            "\n",
            "Copying images into  guacamole\n",
            "\n",
            "Copying images into  gyoza\n",
            "\n",
            "Copying images into  hamburger\n",
            "\n",
            "Copying images into  hot_and_sour_soup\n",
            "\n",
            "Copying images into  hot_dog\n",
            "\n",
            "Copying images into  huevos_rancheros\n",
            "\n",
            "Copying images into  hummus\n",
            "\n",
            "Copying images into  ice_cream\n",
            "\n",
            "Copying images into  lasagna\n",
            "\n",
            "Copying images into  lobster_bisque\n",
            "\n",
            "Copying images into  lobster_roll_sandwich\n",
            "\n",
            "Copying images into  macaroni_and_cheese\n",
            "\n",
            "Copying images into  macarons\n",
            "\n",
            "Copying images into  miso_soup\n",
            "\n",
            "Copying images into  mussels\n",
            "\n",
            "Copying images into  nachos\n",
            "\n",
            "Copying images into  omelette\n",
            "\n",
            "Copying images into  onion_rings\n",
            "\n",
            "Copying images into  oysters\n",
            "\n",
            "Copying images into  pad_thai\n",
            "\n",
            "Copying images into  paella\n",
            "\n",
            "Copying images into  pancakes\n",
            "\n",
            "Copying images into  panna_cotta\n",
            "\n",
            "Copying images into  peking_duck\n",
            "\n",
            "Copying images into  pho\n",
            "\n",
            "Copying images into  pizza\n",
            "\n",
            "Copying images into  pork_chop\n",
            "\n",
            "Copying images into  poutine\n",
            "\n",
            "Copying images into  prime_rib\n",
            "\n",
            "Copying images into  pulled_pork_sandwich\n",
            "\n",
            "Copying images into  ramen\n",
            "\n",
            "Copying images into  ravioli\n",
            "\n",
            "Copying images into  red_velvet_cake\n",
            "\n",
            "Copying images into  risotto\n",
            "\n",
            "Copying images into  samosa\n",
            "\n",
            "Copying images into  sashimi\n",
            "\n",
            "Copying images into  scallops\n",
            "\n",
            "Copying images into  seaweed_salad\n",
            "\n",
            "Copying images into  shrimp_and_grits\n",
            "\n",
            "Copying images into  spaghetti_bolognese\n",
            "\n",
            "Copying images into  spaghetti_carbonara\n",
            "\n",
            "Copying images into  spring_rolls\n",
            "\n",
            "Copying images into  steak\n",
            "\n",
            "Copying images into  strawberry_shortcake\n",
            "\n",
            "Copying images into  sushi\n",
            "\n",
            "Copying images into  tacos\n",
            "\n",
            "Copying images into  takoyaki\n",
            "\n",
            "Copying images into  tiramisu\n",
            "\n",
            "Copying images into  tuna_tartare\n",
            "\n",
            "Copying images into  waffles\n",
            "Copying Done!\n"
          ]
        }
      ]
    },
    {
      "cell_type": "code",
      "source": [
        "# Prepare test data by copying images from food-101/images to food-101/test using the file test.txt\n",
        "print(\"Creating test data...\")\n",
        "prepare_data('food-101/meta/test.txt', 'food-101/images', 'food-101/test')"
      ],
      "metadata": {
        "colab": {
          "base_uri": "https://localhost:8080/"
        },
        "id": "oM8N_mdmz9Z-",
        "outputId": "6b57826b-228a-4168-f024-1183b4b60efd"
      },
      "execution_count": 8,
      "outputs": [
        {
          "output_type": "stream",
          "name": "stdout",
          "text": [
            "Creating test data...\n",
            "\n",
            "Copying images into  apple_pie\n",
            "\n",
            "Copying images into  baby_back_ribs\n",
            "\n",
            "Copying images into  baklava\n",
            "\n",
            "Copying images into  beef_carpaccio\n",
            "\n",
            "Copying images into  beef_tartare\n",
            "\n",
            "Copying images into  beet_salad\n",
            "\n",
            "Copying images into  beignets\n",
            "\n",
            "Copying images into  bibimbap\n",
            "\n",
            "Copying images into  bread_pudding\n",
            "\n",
            "Copying images into  breakfast_burrito\n",
            "\n",
            "Copying images into  bruschetta\n",
            "\n",
            "Copying images into  caesar_salad\n",
            "\n",
            "Copying images into  cannoli\n",
            "\n",
            "Copying images into  caprese_salad\n",
            "\n",
            "Copying images into  carrot_cake\n",
            "\n",
            "Copying images into  ceviche\n",
            "\n",
            "Copying images into  cheesecake\n",
            "\n",
            "Copying images into  cheese_plate\n",
            "\n",
            "Copying images into  chicken_curry\n",
            "\n",
            "Copying images into  chicken_quesadilla\n",
            "\n",
            "Copying images into  chicken_wings\n",
            "\n",
            "Copying images into  chocolate_cake\n",
            "\n",
            "Copying images into  chocolate_mousse\n",
            "\n",
            "Copying images into  churros\n",
            "\n",
            "Copying images into  clam_chowder\n",
            "\n",
            "Copying images into  club_sandwich\n",
            "\n",
            "Copying images into  crab_cakes\n",
            "\n",
            "Copying images into  creme_brulee\n",
            "\n",
            "Copying images into  croque_madame\n",
            "\n",
            "Copying images into  cup_cakes\n",
            "\n",
            "Copying images into  deviled_eggs\n",
            "\n",
            "Copying images into  donuts\n",
            "\n",
            "Copying images into  dumplings\n",
            "\n",
            "Copying images into  edamame\n",
            "\n",
            "Copying images into  eggs_benedict\n",
            "\n",
            "Copying images into  escargots\n",
            "\n",
            "Copying images into  falafel\n",
            "\n",
            "Copying images into  filet_mignon\n",
            "\n",
            "Copying images into  fish_and_chips\n",
            "\n",
            "Copying images into  foie_gras\n",
            "\n",
            "Copying images into  french_fries\n",
            "\n",
            "Copying images into  french_onion_soup\n",
            "\n",
            "Copying images into  french_toast\n",
            "\n",
            "Copying images into  fried_calamari\n",
            "\n",
            "Copying images into  fried_rice\n",
            "\n",
            "Copying images into  frozen_yogurt\n",
            "\n",
            "Copying images into  garlic_bread\n",
            "\n",
            "Copying images into  gnocchi\n",
            "\n",
            "Copying images into  greek_salad\n",
            "\n",
            "Copying images into  grilled_cheese_sandwich\n",
            "\n",
            "Copying images into  grilled_salmon\n",
            "\n",
            "Copying images into  guacamole\n",
            "\n",
            "Copying images into  gyoza\n",
            "\n",
            "Copying images into  hamburger\n",
            "\n",
            "Copying images into  hot_and_sour_soup\n",
            "\n",
            "Copying images into  hot_dog\n",
            "\n",
            "Copying images into  huevos_rancheros\n",
            "\n",
            "Copying images into  hummus\n",
            "\n",
            "Copying images into  ice_cream\n",
            "\n",
            "Copying images into  lasagna\n",
            "\n",
            "Copying images into  lobster_bisque\n",
            "\n",
            "Copying images into  lobster_roll_sandwich\n",
            "\n",
            "Copying images into  macaroni_and_cheese\n",
            "\n",
            "Copying images into  macarons\n",
            "\n",
            "Copying images into  miso_soup\n",
            "\n",
            "Copying images into  mussels\n",
            "\n",
            "Copying images into  nachos\n",
            "\n",
            "Copying images into  omelette\n",
            "\n",
            "Copying images into  onion_rings\n",
            "\n",
            "Copying images into  oysters\n",
            "\n",
            "Copying images into  pad_thai\n",
            "\n",
            "Copying images into  paella\n",
            "\n",
            "Copying images into  pancakes\n",
            "\n",
            "Copying images into  panna_cotta\n",
            "\n",
            "Copying images into  peking_duck\n",
            "\n",
            "Copying images into  pho\n",
            "\n",
            "Copying images into  pizza\n",
            "\n",
            "Copying images into  pork_chop\n",
            "\n",
            "Copying images into  poutine\n",
            "\n",
            "Copying images into  prime_rib\n",
            "\n",
            "Copying images into  pulled_pork_sandwich\n",
            "\n",
            "Copying images into  ramen\n",
            "\n",
            "Copying images into  ravioli\n",
            "\n",
            "Copying images into  red_velvet_cake\n",
            "\n",
            "Copying images into  risotto\n",
            "\n",
            "Copying images into  samosa\n",
            "\n",
            "Copying images into  sashimi\n",
            "\n",
            "Copying images into  scallops\n",
            "\n",
            "Copying images into  seaweed_salad\n",
            "\n",
            "Copying images into  shrimp_and_grits\n",
            "\n",
            "Copying images into  spaghetti_bolognese\n",
            "\n",
            "Copying images into  spaghetti_carbonara\n",
            "\n",
            "Copying images into  spring_rolls\n",
            "\n",
            "Copying images into  steak\n",
            "\n",
            "Copying images into  strawberry_shortcake\n",
            "\n",
            "Copying images into  sushi\n",
            "\n",
            "Copying images into  tacos\n",
            "\n",
            "Copying images into  takoyaki\n",
            "\n",
            "Copying images into  tiramisu\n",
            "\n",
            "Copying images into  tuna_tartare\n",
            "\n",
            "Copying images into  waffles\n",
            "Copying Done!\n"
          ]
        }
      ]
    },
    {
      "cell_type": "code",
      "source": [
        "# Check how many files are in the train folder\n",
        "train_files = sum([len(files) for i, j, files in os.walk(\"food-101/train\")])\n",
        "print(\"Total number of samples in train folder\")\n",
        "print(train_files)"
      ],
      "metadata": {
        "colab": {
          "base_uri": "https://localhost:8080/"
        },
        "id": "Iy97u3Iwz_rR",
        "outputId": "55f393a8-8829-48bc-82d7-1b30302a42a1"
      },
      "execution_count": 9,
      "outputs": [
        {
          "output_type": "stream",
          "name": "stdout",
          "text": [
            "Total number of samples in train folder\n",
            "75750\n"
          ]
        }
      ]
    },
    {
      "cell_type": "code",
      "source": [
        "# Check how many files are in the test folder\n",
        "test_files = sum([len(files) for i, j, files in os.walk(\"food-101/test\")])\n",
        "print(\"Total number of samples in test folder\")\n",
        "print(test_files)"
      ],
      "metadata": {
        "colab": {
          "base_uri": "https://localhost:8080/"
        },
        "id": "j1uvkRlA0BRa",
        "outputId": "76c6688a-ed0a-4cb8-cd0a-2085778f1ab8"
      },
      "execution_count": 10,
      "outputs": [
        {
          "output_type": "stream",
          "name": "stdout",
          "text": [
            "Total number of samples in test folder\n",
            "25250\n"
          ]
        }
      ]
    },
    {
      "cell_type": "code",
      "source": [
        "# Helper method to create train_mini and test_mini data samples\n",
        "def dataset_mini(food_list, src, dest):\n",
        "  if os.path.exists(dest):\n",
        "    rmtree(dest) # removing dataset_mini(if it already exists) folders so that we will have only the classes that we want\n",
        "  os.makedirs(dest)\n",
        "  for food_item in food_list :\n",
        "    print(\"Copying images into\",food_item)\n",
        "    copytree(os.path.join(src,food_item), os.path.join(dest,food_item))"
      ],
      "metadata": {
        "id": "zxTgFcff0Fua"
      },
      "execution_count": 11,
      "outputs": []
    },
    {
      "cell_type": "code",
      "source": [
        "denseNet = DenseNet121(weights='imagenet',include_top=False)"
      ],
      "metadata": {
        "colab": {
          "base_uri": "https://localhost:8080/"
        },
        "id": "PIRmTL1OEgx9",
        "outputId": "7c7180b5-e1f4-481f-a85b-a63486d6dbc9"
      },
      "execution_count": 12,
      "outputs": [
        {
          "output_type": "stream",
          "name": "stdout",
          "text": [
            "Downloading data from https://storage.googleapis.com/tensorflow/keras-applications/densenet/densenet121_weights_tf_dim_ordering_tf_kernels_notop.h5\n",
            "29089792/29084464 [==============================] - 0s 0us/step\n",
            "29097984/29084464 [==============================] - 0s 0us/step\n"
          ]
        }
      ]
    },
    {
      "cell_type": "code",
      "source": [
        "print(\"Number of layers in the base model: \", len(denseNet.layers))\n",
        "# Fine-tune from this layer onwards\n",
        "fine_tune_at = 100\n",
        "\n",
        "# # Freeze all the layers before the `fine_tune_at` layer\n",
        "# for layer in base_model.layers[:fine_tune_at]:\n",
        "#   layer.trainable =  False\n",
        "\n",
        "print( len(denseNet.layers[:fine_tune_at]))\n"
      ],
      "metadata": {
        "colab": {
          "base_uri": "https://localhost:8080/"
        },
        "id": "iYbR3fI_EpQZ",
        "outputId": "cbcf444c-2b01-49f8-b23a-faa9e230db57"
      },
      "execution_count": 14,
      "outputs": [
        {
          "output_type": "stream",
          "name": "stdout",
          "text": [
            "Number of layers in the base model:  427\n",
            "100\n"
          ]
        }
      ]
    },
    {
      "cell_type": "code",
      "source": [
        "def train_model(n_classes,num_epochs, nb_train_samples,nb_validation_samples,fine_tune_epochs):\n",
        "  K.clear_session()\n",
        "\n",
        "  img_width, img_height = 128, 128\n",
        "  train_data_dir = 'food-101/train_mini'\n",
        "  validation_data_dir = 'food-101/test_mini'\n",
        "  batch_size = 16\n",
        "  bestmodel_path = 'bestmodel_'+str(n_classes)+'class.hdf5'\n",
        "  trainedmodel_path = 'trainedmodel_'+str(n_classes)+'class.hdf5'\n",
        "  history_path = 'history_'+str(n_classes)+'.log'\n",
        "\n",
        "  train_datagen = ImageDataGenerator(\n",
        "      preprocessing_function=preprocess_input,\n",
        "      shear_range=0.2,\n",
        "      zoom_range=0.2,\n",
        "      validation_split=0.125,\n",
        "      horizontal_flip=True)\n",
        "\n",
        "  test_datagen = ImageDataGenerator(preprocessing_function=preprocess_input)\n",
        "\n",
        "  train_generator = train_datagen.flow_from_directory(\n",
        "      train_data_dir,\n",
        "      target_size=(img_height, img_width),\n",
        "      batch_size=batch_size,\n",
        "      class_mode='categorical',\n",
        "      subset='training')\n",
        "\n",
        "  \n",
        "  validation_generator = train_datagen.flow_from_directory(\n",
        "    train_data_dir, # same directory as training data\n",
        "    target_size=(img_height, img_width),\n",
        "    batch_size=batch_size,\n",
        "    class_mode='categorical',\n",
        "    subset='validation') # set as validation data\n",
        "\n",
        "  denseNet = DenseNet121(weights='imagenet',include_top=False)\n",
        "  x = denseNet.output\n",
        "  x = GlobalAveragePooling2D()(x)\n",
        "  x = Dense(256,activation='relu')(x)\n",
        "  x = Dense(128,activation='relu')(x)\n",
        "  x = Dropout(0.2)(x)\n",
        "\n",
        "  predictions = Dense(n_classes,kernel_regularizer=regularizers.l2(0.005), activation='softmax')(x)\n",
        "  model = Model(inputs=denseNet.input, outputs=predictions)\n",
        "  model.compile(optimizer=SGD(lr=0.0005, momentum=0.9), loss='categorical_crossentropy', metrics=['accuracy'])\n",
        "  checkpoint = ModelCheckpoint(filepath=bestmodel_path, verbose=1, save_best_only=True)\n",
        "  csv_logger = CSVLogger(history_path)\n",
        "\n",
        "  history = model.fit(train_generator,\n",
        "                      steps_per_epoch = train_generator.samples // batch_size,\n",
        "                      validation_data=validation_generator,\n",
        "                      validation_steps=validation_generator.samples // batch_size,\n",
        "                      epochs=num_epochs,\n",
        "                      verbose=1,\n",
        "                      callbacks=[csv_logger, checkpoint])\n",
        "  \n",
        "\n",
        "  denseNet.trainable = True\n",
        "\n",
        "  # Let's take a look to see how many layers are in the base model\n",
        "  print(\"Number of layers in the base model: \", len(denseNet.layers))\n",
        "\n",
        "  # Fine-tune from this layer onwards\n",
        "  fine_tune_at = 300\n",
        "\n",
        "  # Freeze all the layers before the `fine_tune_at` layer\n",
        "  for layer in denseNet.layers[:fine_tune_at]:\n",
        "    layer.trainable =  False\n",
        "\n",
        "  total_epochs =  num_epochs + fine_tune_epochs\n",
        "\n",
        "  model.compile(optimizer=SGD(lr=0.00005, momentum=0.9), loss='categorical_crossentropy', metrics=['accuracy'])\n",
        "\n",
        "  history_fine = model.fit(train_generator,\n",
        "                      steps_per_epoch = train_generator.samples // batch_size,\n",
        "                      validation_data=validation_generator,\n",
        "                      validation_steps=validation_generator.samples // batch_size,\n",
        "                      epochs=total_epochs,\n",
        "                      initial_epoch=history.epoch[-1],\n",
        "                      verbose=1,\n",
        "                      callbacks=[csv_logger, checkpoint])\n",
        "\n",
        "  model.save(trainedmodel_path)\n",
        "  class_map = train_generator.class_indices\n",
        "  return history, history_fine,class_map"
      ],
      "metadata": {
        "id": "JgXpV2wr0L0y"
      },
      "execution_count": 45,
      "outputs": []
    },
    {
      "cell_type": "code",
      "source": [
        "# Helper function to select n random food classes\n",
        "def pick_n_random_classes(n):\n",
        "  random.seed(9000)\n",
        "  food_list = []\n",
        "  random_food_indices = random.sample(range(len(foods_sorted)),n) # We are picking n random food classes\n",
        "  for i in random_food_indices:\n",
        "    food_list.append(foods_sorted[i])\n",
        "  food_list.sort()\n",
        "  print(\"These are the randomly picked food classes we will be training the model on...\\n\", food_list)\n",
        "  return food_list"
      ],
      "metadata": {
        "id": "SUAwz1vg0QTL"
      },
      "execution_count": 17,
      "outputs": []
    },
    {
      "cell_type": "code",
      "source": [
        "# Lets try with more classes than just 3. Also, this time lets randomly pick the food classes\n",
        "n = 10\n",
        "food_list = pick_n_random_classes(n)\n",
        "# food_list = ['seaweed_salad','waffles','red_velvet_cake','cup_cakes','pizza','spaghetti_carbonara','hamburger','ice_cream','macarons','mussels']\n",
        "src_train = 'food-101/train'\n",
        "dest_train = 'food-101/train_mini'\n",
        "src_test = 'food-101/test'\n",
        "dest_test = 'food-101/test_mini'"
      ],
      "metadata": {
        "colab": {
          "base_uri": "https://localhost:8080/"
        },
        "id": "27iqDJQQ0THo",
        "outputId": "762360c7-311c-4f25-83dc-d5b18b1dec9a"
      },
      "execution_count": 18,
      "outputs": [
        {
          "output_type": "stream",
          "name": "stdout",
          "text": [
            "These are the randomly picked food classes we will be training the model on...\n",
            " ['beef_tartare', 'chicken_curry', 'chocolate_mousse', 'french_toast', 'fried_rice', 'hot_dog', 'lasagna', 'oysters', 'pizza', 'takoyaki']\n"
          ]
        }
      ]
    },
    {
      "cell_type": "code",
      "source": [
        "# Create the new data subset of n classes\n",
        "print(\"Creating training data folder with new classes...\")\n",
        "dataset_mini(food_list, src_train, dest_train)"
      ],
      "metadata": {
        "colab": {
          "base_uri": "https://localhost:8080/"
        },
        "id": "V13dd6rE0WZs",
        "outputId": "243f833f-eb14-4d5b-bbb7-cee4d104d61d"
      },
      "execution_count": 19,
      "outputs": [
        {
          "output_type": "stream",
          "name": "stdout",
          "text": [
            "Creating training data folder with new classes...\n",
            "Copying images into beef_tartare\n",
            "Copying images into chicken_curry\n",
            "Copying images into chocolate_mousse\n",
            "Copying images into french_toast\n",
            "Copying images into fried_rice\n",
            "Copying images into hot_dog\n",
            "Copying images into lasagna\n",
            "Copying images into oysters\n",
            "Copying images into pizza\n",
            "Copying images into takoyaki\n"
          ]
        }
      ]
    },
    {
      "cell_type": "code",
      "source": [
        "print(\"Total number of samples in train folder\")\n",
        "train_files = sum([len(files) for i, j, files in os.walk(\"food-101/train_mini\")])\n",
        "print(train_files)"
      ],
      "metadata": {
        "colab": {
          "base_uri": "https://localhost:8080/"
        },
        "id": "PdSSCMYH0Y3i",
        "outputId": "b942aea1-50ec-4f30-f460-8978855b633c"
      },
      "execution_count": 20,
      "outputs": [
        {
          "output_type": "stream",
          "name": "stdout",
          "text": [
            "Total number of samples in train folder\n",
            "7500\n"
          ]
        }
      ]
    },
    {
      "cell_type": "code",
      "source": [
        "print(\"Creating test data folder with new classes\")\n",
        "dataset_mini(food_list, src_test, dest_test)"
      ],
      "metadata": {
        "colab": {
          "base_uri": "https://localhost:8080/"
        },
        "id": "AiwD8OqT0arS",
        "outputId": "95871615-59a1-46f4-a5d6-6840f3c006d2"
      },
      "execution_count": 21,
      "outputs": [
        {
          "output_type": "stream",
          "name": "stdout",
          "text": [
            "Creating test data folder with new classes\n",
            "Copying images into beef_tartare\n",
            "Copying images into chicken_curry\n",
            "Copying images into chocolate_mousse\n",
            "Copying images into french_toast\n",
            "Copying images into fried_rice\n",
            "Copying images into hot_dog\n",
            "Copying images into lasagna\n",
            "Copying images into oysters\n",
            "Copying images into pizza\n",
            "Copying images into takoyaki\n"
          ]
        }
      ]
    },
    {
      "cell_type": "code",
      "source": [
        "print(\"Total number of samples in test folder\")\n",
        "test_files = sum([len(files) for i, j, files in os.walk(\"food-101/test_mini\")])\n",
        "print(test_files)"
      ],
      "metadata": {
        "colab": {
          "base_uri": "https://localhost:8080/"
        },
        "id": "-lRttT_30dFE",
        "outputId": "a30ad297-0c00-423e-bc1c-48939ea78b01"
      },
      "execution_count": 22,
      "outputs": [
        {
          "output_type": "stream",
          "name": "stdout",
          "text": [
            "Total number of samples in test folder\n",
            "2500\n"
          ]
        }
      ]
    },
    {
      "cell_type": "code",
      "source": [
        "# Train the model with data from 4 classes\n",
        "n_classes = 10\n",
        "epochs = 10\n",
        "fine_epochs = 10\n",
        "kernel_size =5\n",
        "nb_train_samples = train_files\n",
        "nb_validation_samples = test_files\n",
        "\n",
        "history,history_fine, class_map_10 = train_model(n_classes,epochs, nb_train_samples,nb_validation_samples,fine_epochs)\n",
        "print(class_map_10)"
      ],
      "metadata": {
        "colab": {
          "base_uri": "https://localhost:8080/"
        },
        "id": "mXM1xxxB0fCq",
        "outputId": "b893f85b-f14c-403b-c928-ed128e2b8ab7"
      },
      "execution_count": 46,
      "outputs": [
        {
          "output_type": "stream",
          "name": "stdout",
          "text": [
            "Found 6570 images belonging to 10 classes.\n",
            "Found 930 images belonging to 10 classes.\n"
          ]
        },
        {
          "output_type": "stream",
          "name": "stderr",
          "text": [
            "/usr/local/lib/python3.7/dist-packages/keras/optimizer_v2/gradient_descent.py:102: UserWarning: The `lr` argument is deprecated, use `learning_rate` instead.\n",
            "  super(SGD, self).__init__(name, **kwargs)\n"
          ]
        },
        {
          "output_type": "stream",
          "name": "stdout",
          "text": [
            "Epoch 1/10\n",
            "410/410 [==============================] - ETA: 0s - loss: 1.5615 - accuracy: 0.5084\n",
            "Epoch 00001: val_loss improved from inf to 0.88739, saving model to bestmodel_10class.hdf5\n",
            "410/410 [==============================] - 110s 235ms/step - loss: 1.5615 - accuracy: 0.5084 - val_loss: 0.8874 - val_accuracy: 0.7522\n",
            "Epoch 2/10\n",
            "410/410 [==============================] - ETA: 0s - loss: 0.8588 - accuracy: 0.7569\n",
            "Epoch 00002: val_loss improved from 0.88739 to 0.76759, saving model to bestmodel_10class.hdf5\n",
            "410/410 [==============================] - 93s 227ms/step - loss: 0.8588 - accuracy: 0.7569 - val_loss: 0.7676 - val_accuracy: 0.7812\n",
            "Epoch 3/10\n",
            "410/410 [==============================] - ETA: 0s - loss: 0.6543 - accuracy: 0.8187\n",
            "Epoch 00003: val_loss improved from 0.76759 to 0.68781, saving model to bestmodel_10class.hdf5\n",
            "410/410 [==============================] - 94s 228ms/step - loss: 0.6543 - accuracy: 0.8187 - val_loss: 0.6878 - val_accuracy: 0.8060\n",
            "Epoch 4/10\n",
            "410/410 [==============================] - ETA: 0s - loss: 0.5718 - accuracy: 0.8438\n",
            "Epoch 00004: val_loss improved from 0.68781 to 0.65856, saving model to bestmodel_10class.hdf5\n",
            "410/410 [==============================] - 93s 226ms/step - loss: 0.5718 - accuracy: 0.8438 - val_loss: 0.6586 - val_accuracy: 0.8136\n",
            "Epoch 5/10\n",
            "410/410 [==============================] - ETA: 0s - loss: 0.4755 - accuracy: 0.8697\n",
            "Epoch 00005: val_loss improved from 0.65856 to 0.59441, saving model to bestmodel_10class.hdf5\n",
            "410/410 [==============================] - 93s 226ms/step - loss: 0.4755 - accuracy: 0.8697 - val_loss: 0.5944 - val_accuracy: 0.8470\n",
            "Epoch 6/10\n",
            "410/410 [==============================] - ETA: 0s - loss: 0.3911 - accuracy: 0.8979\n",
            "Epoch 00006: val_loss did not improve from 0.59441\n",
            "410/410 [==============================] - 91s 223ms/step - loss: 0.3911 - accuracy: 0.8979 - val_loss: 0.6366 - val_accuracy: 0.8276\n",
            "Epoch 7/10\n",
            "410/410 [==============================] - ETA: 0s - loss: 0.3524 - accuracy: 0.9118\n",
            "Epoch 00007: val_loss did not improve from 0.59441\n",
            "410/410 [==============================] - 92s 223ms/step - loss: 0.3524 - accuracy: 0.9118 - val_loss: 0.6292 - val_accuracy: 0.8297\n",
            "Epoch 8/10\n",
            "410/410 [==============================] - ETA: 0s - loss: 0.2993 - accuracy: 0.9277\n",
            "Epoch 00008: val_loss did not improve from 0.59441\n",
            "410/410 [==============================] - 91s 221ms/step - loss: 0.2993 - accuracy: 0.9277 - val_loss: 0.5976 - val_accuracy: 0.8416\n",
            "Epoch 9/10\n",
            "410/410 [==============================] - ETA: 0s - loss: 0.2753 - accuracy: 0.9347\n",
            "Epoch 00009: val_loss did not improve from 0.59441\n",
            "410/410 [==============================] - 91s 223ms/step - loss: 0.2753 - accuracy: 0.9347 - val_loss: 0.6126 - val_accuracy: 0.8394\n",
            "Epoch 10/10\n",
            "410/410 [==============================] - ETA: 0s - loss: 0.2441 - accuracy: 0.9419\n",
            "Epoch 00010: val_loss did not improve from 0.59441\n",
            "410/410 [==============================] - 91s 222ms/step - loss: 0.2441 - accuracy: 0.9419 - val_loss: 0.6001 - val_accuracy: 0.8481\n",
            "Number of layers in the base model:  427\n",
            "Epoch 10/20\n",
            "410/410 [==============================] - ETA: 0s - loss: 0.1775 - accuracy: 0.9678\n",
            "Epoch 00010: val_loss improved from 0.59441 to 0.56259, saving model to bestmodel_10class.hdf5\n",
            "410/410 [==============================] - 91s 200ms/step - loss: 0.1775 - accuracy: 0.9678 - val_loss: 0.5626 - val_accuracy: 0.8578\n",
            "Epoch 11/20\n",
            "410/410 [==============================] - ETA: 0s - loss: 0.1809 - accuracy: 0.9643\n",
            "Epoch 00011: val_loss did not improve from 0.56259\n",
            "410/410 [==============================] - 78s 190ms/step - loss: 0.1809 - accuracy: 0.9643 - val_loss: 0.5761 - val_accuracy: 0.8588\n",
            "Epoch 12/20\n",
            "410/410 [==============================] - ETA: 0s - loss: 0.1661 - accuracy: 0.9706\n",
            "Epoch 00012: val_loss improved from 0.56259 to 0.54907, saving model to bestmodel_10class.hdf5\n",
            "410/410 [==============================] - 79s 193ms/step - loss: 0.1661 - accuracy: 0.9706 - val_loss: 0.5491 - val_accuracy: 0.8556\n",
            "Epoch 13/20\n",
            "410/410 [==============================] - ETA: 0s - loss: 0.1652 - accuracy: 0.9706\n",
            "Epoch 00013: val_loss did not improve from 0.54907\n",
            "410/410 [==============================] - 78s 191ms/step - loss: 0.1652 - accuracy: 0.9706 - val_loss: 0.5938 - val_accuracy: 0.8588\n",
            "Epoch 14/20\n",
            "410/410 [==============================] - ETA: 0s - loss: 0.1625 - accuracy: 0.9707\n",
            "Epoch 00014: val_loss did not improve from 0.54907\n",
            "410/410 [==============================] - 78s 191ms/step - loss: 0.1625 - accuracy: 0.9707 - val_loss: 0.5868 - val_accuracy: 0.8610\n",
            "Epoch 15/20\n",
            "410/410 [==============================] - ETA: 0s - loss: 0.1665 - accuracy: 0.9684\n",
            "Epoch 00015: val_loss did not improve from 0.54907\n",
            "410/410 [==============================] - 79s 193ms/step - loss: 0.1665 - accuracy: 0.9684 - val_loss: 0.5505 - val_accuracy: 0.8621\n",
            "Epoch 16/20\n",
            "410/410 [==============================] - ETA: 0s - loss: 0.1608 - accuracy: 0.9725\n",
            "Epoch 00016: val_loss did not improve from 0.54907\n",
            "410/410 [==============================] - 79s 194ms/step - loss: 0.1608 - accuracy: 0.9725 - val_loss: 0.5845 - val_accuracy: 0.8599\n",
            "Epoch 17/20\n",
            "410/410 [==============================] - ETA: 0s - loss: 0.1545 - accuracy: 0.9728\n",
            "Epoch 00017: val_loss improved from 0.54907 to 0.54778, saving model to bestmodel_10class.hdf5\n",
            "410/410 [==============================] - 81s 197ms/step - loss: 0.1545 - accuracy: 0.9728 - val_loss: 0.5478 - val_accuracy: 0.8642\n",
            "Epoch 18/20\n",
            "410/410 [==============================] - ETA: 0s - loss: 0.1520 - accuracy: 0.9733\n",
            "Epoch 00018: val_loss did not improve from 0.54778\n",
            "410/410 [==============================] - 79s 193ms/step - loss: 0.1520 - accuracy: 0.9733 - val_loss: 0.5717 - val_accuracy: 0.8685\n",
            "Epoch 19/20\n",
            "410/410 [==============================] - ETA: 0s - loss: 0.1563 - accuracy: 0.9702\n",
            "Epoch 00019: val_loss did not improve from 0.54778\n",
            "410/410 [==============================] - 78s 191ms/step - loss: 0.1563 - accuracy: 0.9702 - val_loss: 0.5742 - val_accuracy: 0.8599\n",
            "Epoch 20/20\n",
            "410/410 [==============================] - ETA: 0s - loss: 0.1458 - accuracy: 0.9773\n",
            "Epoch 00020: val_loss did not improve from 0.54778\n",
            "410/410 [==============================] - 77s 188ms/step - loss: 0.1458 - accuracy: 0.9773 - val_loss: 0.5725 - val_accuracy: 0.8631\n",
            "{'beef_tartare': 0, 'chicken_curry': 1, 'chocolate_mousse': 2, 'french_toast': 3, 'fried_rice': 4, 'hot_dog': 5, 'lasagna': 6, 'oysters': 7, 'pizza': 8, 'takoyaki': 9}\n"
          ]
        }
      ]
    },
    {
      "cell_type": "code",
      "source": [
        "img_width, img_height = 128, 128\n",
        "validation_data_dir = 'food-101/test_mini'\n",
        "batch_size=16\n",
        "\n",
        "test_datagen = ImageDataGenerator(preprocessing_function=preprocess_input)\n",
        "\n",
        "test_generator = test_datagen.flow_from_directory(\n",
        "    validation_data_dir,\n",
        "    target_size=(img_height, img_width),\n",
        "    batch_size=batch_size,\n",
        "    class_mode='categorical')"
      ],
      "metadata": {
        "colab": {
          "base_uri": "https://localhost:8080/"
        },
        "id": "ZQz18Zm_TMoX",
        "outputId": "4da20d39-5a99-47d5-d927-29b01a0f70a9"
      },
      "execution_count": 47,
      "outputs": [
        {
          "output_type": "stream",
          "name": "stdout",
          "text": [
            "Found 2500 images belonging to 10 classes.\n"
          ]
        }
      ]
    },
    {
      "cell_type": "code",
      "source": [
        "K.clear_session()\n",
        "model_best = load_model('bestmodel_10class.hdf5',compile = False)\n",
        "model_best.compile(optimizer=keras.optimizers.Adam(), loss='categorical_crossentropy', metrics=['accuracy'])"
      ],
      "metadata": {
        "id": "jakPGUCxTPyV"
      },
      "execution_count": 54,
      "outputs": []
    },
    {
      "cell_type": "code",
      "source": [
        "model_best.evaluate(test_generator)"
      ],
      "metadata": {
        "colab": {
          "base_uri": "https://localhost:8080/"
        },
        "id": "QDyPOUTTTSBI",
        "outputId": "f0538cf7-3ef5-4fb0-c0b6-d0101f7f4445"
      },
      "execution_count": 55,
      "outputs": [
        {
          "output_type": "stream",
          "name": "stdout",
          "text": [
            "157/157 [==============================] - 19s 96ms/step - loss: 0.3970 - accuracy: 0.9020\n"
          ]
        },
        {
          "output_type": "execute_result",
          "data": {
            "text/plain": [
              "[0.3970281779766083, 0.9020000100135803]"
            ]
          },
          "metadata": {},
          "execution_count": 55
        }
      ]
    },
    {
      "cell_type": "code",
      "source": [
        "def plot_accuracy(history):\n",
        "    plt.plot(history.history['accuracy'],c='orange',linewidth=2) # change acc to accuracy if testing TF 2.0\n",
        "    plt.plot(history.history['val_accuracy'],c='royalblue',linewidth=2) # change val_accuracy if testing TF 2.0\n",
        "    plt.ylabel('accuracy')\n",
        "    plt.xlabel('epoch')\n",
        "    plt.legend(['train_accuracy', 'validation_accuracy'], loc='best')\n",
        "    plt.show()\n",
        "\n",
        "\n",
        "def plot_loss(history):\n",
        "    plt.plot(history.history['loss'],c='orange',linewidth=2)\n",
        "    plt.plot(history.history['val_loss'],c='royalblue',linewidth=2)\n",
        "    plt.ylabel('loss')\n",
        "    plt.xlabel('epoch')\n",
        "    plt.legend(['train_loss', 'validation_loss'], loc='best')\n",
        "    plt.show()\n",
        "\n",
        "\n",
        "plot_accuracy(history)\n",
        "plot_loss(history)"
      ],
      "metadata": {
        "colab": {
          "base_uri": "https://localhost:8080/",
          "height": 545
        },
        "id": "K69-hb4dUKRd",
        "outputId": "58a086d0-6a42-4011-9c75-8ba3bfa0a88f"
      },
      "execution_count": 56,
      "outputs": [
        {
          "output_type": "display_data",
          "data": {
            "image/png": "[encoded data removed]",
            "text/plain": [
              "<Figure size 432x288 with 1 Axes>"
            ]
          },
          "metadata": {
            "needs_background": "light"
          }
        },
        {
          "output_type": "display_data",
          "data": {
            "image/png": "[encoded data removed]",
            "text/plain": [
              "<Figure size 432x288 with 1 Axes>"
            ]
          },
          "metadata": {
            "needs_background": "light"
          }
        }
      ]
    },
    {
      "cell_type": "code",
      "source": [
        "acc = history.history['accuracy']\n",
        "val_acc = history.history['val_accuracy']\n",
        "\n",
        "loss = history.history['loss']\n",
        "val_loss = history.history['val_loss']\n",
        "\n",
        "acc += history_fine.history['accuracy']\n",
        "val_acc += history_fine.history['val_accuracy']\n",
        "\n",
        "loss += history_fine.history['loss']\n",
        "val_loss += history_fine.history['val_loss']"
      ],
      "metadata": {
        "id": "BdP4cWdwVBvn"
      },
      "execution_count": 52,
      "outputs": []
    },
    {
      "cell_type": "code",
      "source": [
        "plt.figure(figsize=(8, 8))\n",
        "plt.subplot(2, 1, 1)\n",
        "plt.plot(acc, label='Training Accuracy')\n",
        "plt.plot(val_acc, label='Validation Accuracy')\n",
        "# plt.ylim([0.8, 1])\n",
        "plt.plot([epochs-1,epochs-1],\n",
        "          plt.ylim(), label='Start Fine Tuning')\n",
        "plt.legend(loc='lower right')\n",
        "plt.title('Training and Validation Accuracy')\n",
        "\n",
        "plt.subplot(2, 1, 2)\n",
        "plt.plot(loss, label='Training Loss')\n",
        "plt.plot(val_loss, label='Validation Loss')\n",
        "# plt.ylim([0, 1.0])\n",
        "plt.plot([epochs-1,epochs-1],\n",
        "         plt.ylim(), label='Start Fine Tuning')\n",
        "plt.legend(loc='upper right')\n",
        "plt.title('Training and Validation Loss')\n",
        "plt.xlabel('epoch')\n",
        "plt.show()"
      ],
      "metadata": {
        "colab": {
          "base_uri": "https://localhost:8080/",
          "height": 513
        },
        "id": "0z780E4uVHY_",
        "outputId": "d2c07e93-2029-4105-bf72-99e23ca4a844"
      },
      "execution_count": 53,
      "outputs": [
        {
          "output_type": "display_data",
          "data": {
            "image/png": "[encoded data removed]",
            "text/plain": [
              "<Figure size 576x576 with 2 Axes>"
            ]
          },
          "metadata": {
            "needs_background": "light"
          }
        }
      ]
    },
    {
      "cell_type": "markdown",
      "source": [
        "# **fine Tuning**"
      ],
      "metadata": {
        "id": "3BXPE1RcXpxf"
      }
    },
    {
      "cell_type": "code",
      "source": [
        "n_classes = 10\n",
        "num_epochs = 10\n",
        "fine_tune_epochs = 10\n",
        "nb_train_samples = train_files\n",
        "nb_validation_samples = test_files"
      ],
      "metadata": {
        "id": "GRiox-EgYIPQ"
      },
      "execution_count": 38,
      "outputs": []
    },
    {
      "cell_type": "code",
      "source": [
        "K.clear_session()\n",
        "\n",
        "img_width, img_height = 128, 128\n",
        "train_data_dir = 'food-101/train_mini'\n",
        "validation_data_dir = 'food-101/test_mini'\n",
        "batch_size = 16\n",
        "bestmodel_path = 'bestmodel_'+str(n_classes)+'class.hdf5'\n",
        "trainedmodel_path = 'trainedmodel_'+str(n_classes)+'class.hdf5'\n",
        "history_path = 'history_'+str(n_classes)+'.log'\n",
        "\n",
        "train_datagen = ImageDataGenerator(\n",
        "    preprocessing_function=preprocess_input,\n",
        "    shear_range=0.2,\n",
        "    zoom_range=0.2,\n",
        "    validation_split=0.125,\n",
        "    horizontal_flip=True)\n",
        "\n",
        "test_datagen = ImageDataGenerator(preprocessing_function=preprocess_input)\n",
        "\n",
        "train_generator = train_datagen.flow_from_directory(\n",
        "    train_data_dir,\n",
        "    target_size=(img_height, img_width),\n",
        "    batch_size=batch_size,\n",
        "    class_mode='categorical',\n",
        "    subset='training')\n",
        "\n",
        "\n",
        "validation_generator = train_datagen.flow_from_directory(\n",
        "  train_data_dir, # same directory as training data\n",
        "  target_size=(img_height, img_width),\n",
        "  batch_size=batch_size,\n",
        "  class_mode='categorical',\n",
        "  subset='validation') # set as validation data\n",
        "\n",
        "denseNet = DenseNet121(weights='imagenet',include_top=False)\n",
        "x = denseNet.output\n",
        "x = GlobalAveragePooling2D()(x)\n",
        "x = Dense(256,activation='relu')(x)\n",
        "x = Dense(128,activation='relu')(x)\n",
        "x = Dropout(0.2)(x)\n",
        "\n",
        "predictions = Dense(n_classes,kernel_regularizer=regularizers.l2(0.005), activation='softmax')(x)\n",
        "model = Model(inputs=denseNet.input, outputs=predictions)\n",
        "model.compile(optimizer=SGD(lr=0.0001, momentum=0.9), loss='categorical_crossentropy', metrics=['accuracy'])\n",
        "checkpoint = ModelCheckpoint(filepath=bestmodel_path, verbose=1, save_best_only=True)\n",
        "csv_logger = CSVLogger(history_path)\n",
        "\n",
        "history = model.fit(train_generator,\n",
        "                    steps_per_epoch = train_generator.samples // batch_size,\n",
        "                    validation_data=validation_generator,\n",
        "                    validation_steps=validation_generator.samples // batch_size,\n",
        "                    epochs=num_epochs,\n",
        "                    verbose=1,\n",
        "                    callbacks=[csv_logger, checkpoint])"
      ],
      "metadata": {
        "colab": {
          "base_uri": "https://localhost:8080/"
        },
        "id": "hC3xrNRMX6JI",
        "outputId": "fb6aad07-0139-4966-b20b-382514f6a8b7"
      },
      "execution_count": 32,
      "outputs": [
        {
          "output_type": "stream",
          "name": "stdout",
          "text": [
            "Found 6570 images belonging to 10 classes.\n",
            "Found 930 images belonging to 10 classes.\n"
          ]
        },
        {
          "output_type": "stream",
          "name": "stderr",
          "text": [
            "/usr/local/lib/python3.7/dist-packages/keras/optimizer_v2/gradient_descent.py:102: UserWarning: The `lr` argument is deprecated, use `learning_rate` instead.\n",
            "  super(SGD, self).__init__(name, **kwargs)\n"
          ]
        },
        {
          "output_type": "stream",
          "name": "stdout",
          "text": [
            "Epoch 1/10\n",
            "410/410 [==============================] - ETA: 0s - loss: 2.2669 - accuracy: 0.2405\n",
            "Epoch 00001: val_loss improved from inf to 1.83302, saving model to bestmodel_10class.hdf5\n",
            "410/410 [==============================] - 146s 315ms/step - loss: 2.2669 - accuracy: 0.2405 - val_loss: 1.8330 - val_accuracy: 0.4666\n",
            "Epoch 2/10\n",
            "410/410 [==============================] - ETA: 0s - loss: 1.5837 - accuracy: 0.5163\n",
            "Epoch 00002: val_loss improved from 1.83302 to 1.25021, saving model to bestmodel_10class.hdf5\n",
            "410/410 [==============================] - 97s 237ms/step - loss: 1.5837 - accuracy: 0.5163 - val_loss: 1.2502 - val_accuracy: 0.6412\n",
            "Epoch 3/10\n",
            "410/410 [==============================] - ETA: 0s - loss: 1.1877 - accuracy: 0.6477\n",
            "Epoch 00003: val_loss improved from 1.25021 to 0.99234, saving model to bestmodel_10class.hdf5\n",
            "410/410 [==============================] - 96s 234ms/step - loss: 1.1877 - accuracy: 0.6477 - val_loss: 0.9923 - val_accuracy: 0.7274\n",
            "Epoch 4/10\n",
            "410/410 [==============================] - ETA: 0s - loss: 1.0111 - accuracy: 0.7084\n",
            "Epoch 00004: val_loss improved from 0.99234 to 0.84179, saving model to bestmodel_10class.hdf5\n",
            "410/410 [==============================] - 95s 232ms/step - loss: 1.0111 - accuracy: 0.7084 - val_loss: 0.8418 - val_accuracy: 0.7726\n",
            "Epoch 5/10\n",
            "410/410 [==============================] - ETA: 0s - loss: 0.8858 - accuracy: 0.7470\n",
            "Epoch 00005: val_loss improved from 0.84179 to 0.76117, saving model to bestmodel_10class.hdf5\n",
            "410/410 [==============================] - 95s 230ms/step - loss: 0.8858 - accuracy: 0.7470 - val_loss: 0.7612 - val_accuracy: 0.7963\n",
            "Epoch 6/10\n",
            "410/410 [==============================] - ETA: 0s - loss: 0.8175 - accuracy: 0.7652\n",
            "Epoch 00006: val_loss improved from 0.76117 to 0.71011, saving model to bestmodel_10class.hdf5\n",
            "410/410 [==============================] - 98s 239ms/step - loss: 0.8175 - accuracy: 0.7652 - val_loss: 0.7101 - val_accuracy: 0.8157\n",
            "Epoch 7/10\n",
            "410/410 [==============================] - ETA: 0s - loss: 0.7483 - accuracy: 0.7969\n",
            "Epoch 00007: val_loss improved from 0.71011 to 0.66036, saving model to bestmodel_10class.hdf5\n",
            "410/410 [==============================] - 98s 238ms/step - loss: 0.7483 - accuracy: 0.7969 - val_loss: 0.6604 - val_accuracy: 0.8276\n",
            "Epoch 8/10\n",
            "410/410 [==============================] - ETA: 0s - loss: 0.6645 - accuracy: 0.8169\n",
            "Epoch 00008: val_loss did not improve from 0.66036\n",
            "410/410 [==============================] - 109s 264ms/step - loss: 0.6645 - accuracy: 0.8169 - val_loss: 0.6647 - val_accuracy: 0.8125\n",
            "Epoch 9/10\n",
            "410/410 [==============================] - ETA: 0s - loss: 0.6283 - accuracy: 0.8293\n",
            "Epoch 00009: val_loss improved from 0.66036 to 0.63256, saving model to bestmodel_10class.hdf5\n",
            "410/410 [==============================] - 94s 230ms/step - loss: 0.6283 - accuracy: 0.8293 - val_loss: 0.6326 - val_accuracy: 0.8319\n",
            "Epoch 10/10\n",
            "410/410 [==============================] - ETA: 0s - loss: 0.5731 - accuracy: 0.8439\n",
            "Epoch 00010: val_loss improved from 0.63256 to 0.63186, saving model to bestmodel_10class.hdf5\n",
            "410/410 [==============================] - 93s 226ms/step - loss: 0.5731 - accuracy: 0.8439 - val_loss: 0.6319 - val_accuracy: 0.8384\n"
          ]
        }
      ]
    },
    {
      "cell_type": "code",
      "source": [
        "img_width, img_height = 128, 128\n",
        "validation_data_dir = 'food-101/test_mini'\n",
        "batch_size=16\n",
        "\n",
        "test_datagen = ImageDataGenerator(preprocessing_function=preprocess_input)\n",
        "\n",
        "test_generator = test_datagen.flow_from_directory(\n",
        "    validation_data_dir,\n",
        "    target_size=(img_height, img_width),\n",
        "    batch_size=batch_size,\n",
        "    class_mode='categorical')"
      ],
      "metadata": {
        "colab": {
          "base_uri": "https://localhost:8080/"
        },
        "id": "xcriHE4Qbzif",
        "outputId": "402085c4-2ced-421a-81a2-329b9451a936"
      },
      "execution_count": 33,
      "outputs": [
        {
          "output_type": "stream",
          "name": "stdout",
          "text": [
            "Found 2500 images belonging to 10 classes.\n"
          ]
        }
      ]
    },
    {
      "cell_type": "code",
      "source": [
        "K.clear_session()\n",
        "model_best = load_model('bestmodel_10class.hdf5',compile = False)\n",
        "model_best.compile(optimizer=keras.optimizers.Adam(), loss='categorical_crossentropy', metrics=['accuracy'])"
      ],
      "metadata": {
        "id": "2LcfI1Hib3eg"
      },
      "execution_count": 34,
      "outputs": []
    },
    {
      "cell_type": "code",
      "source": [
        "model_best.evaluate(test_generator)"
      ],
      "metadata": {
        "colab": {
          "base_uri": "https://localhost:8080/"
        },
        "id": "9ttL3_aKb6ng",
        "outputId": "d58da0cf-0669-4922-b9f9-a36c77f6eb66"
      },
      "execution_count": 35,
      "outputs": [
        {
          "output_type": "stream",
          "name": "stdout",
          "text": [
            "157/157 [==============================] - 21s 112ms/step - loss: 0.4742 - accuracy: 0.8796\n"
          ]
        },
        {
          "output_type": "execute_result",
          "data": {
            "text/plain": [
              "[0.4742061495780945, 0.8795999884605408]"
            ]
          },
          "metadata": {},
          "execution_count": 35
        }
      ]
    },
    {
      "cell_type": "code",
      "source": [
        "def plot_accuracy(history):\n",
        "    plt.plot(history.history['accuracy'],c='orange',linewidth=2) # change acc to accuracy if testing TF 2.0\n",
        "    plt.plot(history.history['val_accuracy'],c='royalblue',linewidth=2) # change val_accuracy if testing TF 2.0\n",
        "    plt.ylabel('accuracy')\n",
        "    plt.xlabel('epoch')\n",
        "    plt.legend(['train_accuracy', 'validation_accuracy'], loc='best')\n",
        "    plt.show()\n",
        "\n",
        "\n",
        "def plot_loss(history):\n",
        "    plt.plot(history.history['loss'],c='orange',linewidth=2)\n",
        "    plt.plot(history.history['val_loss'],c='royalblue',linewidth=2)\n",
        "    plt.ylabel('loss')\n",
        "    plt.xlabel('epoch')\n",
        "    plt.legend(['train_loss', 'validation_loss'], loc='best')\n",
        "    plt.show()\n",
        "\n",
        "\n",
        "plot_accuracy(history)\n",
        "plot_loss(history)"
      ],
      "metadata": {
        "colab": {
          "base_uri": "https://localhost:8080/",
          "height": 541
        },
        "id": "TCb2qDb6dTIp",
        "outputId": "4d06992a-3708-4ff2-e830-7d1f71c316b8"
      },
      "execution_count": 36,
      "outputs": [
        {
          "output_type": "display_data",
          "data": {
            "image/png": "[encoded data removed]",
            "text/plain": [
              "<Figure size 432x288 with 1 Axes>"
            ]
          },
          "metadata": {
            "needs_background": "light"
          }
        },
        {
          "output_type": "display_data",
          "data": {
            "image/png": "[encoded data removed]",
            "text/plain": [
              "<Figure size 432x288 with 1 Axes>"
            ]
          },
          "metadata": {
            "needs_background": "light"
          }
        }
      ]
    },
    {
      "cell_type": "code",
      "source": [
        "denseNet.trainable = True\n",
        "\n",
        "# Let's take a look to see how many layers are in the base model\n",
        "print(\"Number of layers in the base model: \", len(denseNet.layers))\n",
        "\n",
        "# Fine-tune from this layer onwards\n",
        "fine_tune_at = 300\n",
        "\n",
        "# Freeze all the layers before the `fine_tune_at` layer\n",
        "for layer in denseNet.layers[:fine_tune_at]:\n",
        "  layer.trainable =  False\n",
        "\n",
        "total_epochs =  num_epochs + fine_tune_epochs\n",
        "\n",
        "model.compile(optimizer=SGD(lr=0.00001, momentum=0.9), loss='categorical_crossentropy', metrics=['accuracy'])\n",
        "\n",
        "history_fine = model.fit(train_generator,\n",
        "                    steps_per_epoch = train_generator.samples // batch_size,\n",
        "                    validation_data=validation_generator,\n",
        "                    validation_steps=validation_generator.samples // batch_size,\n",
        "                    epochs=total_epochs,\n",
        "                    initial_epoch=history.epoch[-1],\n",
        "                    verbose=1,\n",
        "                    callbacks=[csv_logger, checkpoint])\n",
        "\n",
        "model.save(trainedmodel_path)"
      ],
      "metadata": {
        "colab": {
          "base_uri": "https://localhost:8080/"
        },
        "id": "qMicnUiJXv0E",
        "outputId": "cebcf8ee-872b-4d50-caf4-94299dab4a3b"
      },
      "execution_count": 39,
      "outputs": [
        {
          "output_type": "stream",
          "name": "stdout",
          "text": [
            "Number of layers in the base model:  427\n"
          ]
        },
        {
          "output_type": "stream",
          "name": "stderr",
          "text": [
            "/usr/local/lib/python3.7/dist-packages/keras/optimizer_v2/gradient_descent.py:102: UserWarning: The `lr` argument is deprecated, use `learning_rate` instead.\n",
            "  super(SGD, self).__init__(name, **kwargs)\n"
          ]
        },
        {
          "output_type": "stream",
          "name": "stdout",
          "text": [
            "Epoch 10/20\n",
            "410/410 [==============================] - ETA: 0s - loss: 0.5075 - accuracy: 0.8666\n",
            "Epoch 00010: val_loss improved from 0.63186 to 0.59858, saving model to bestmodel_10class.hdf5\n",
            "410/410 [==============================] - 91s 198ms/step - loss: 0.5075 - accuracy: 0.8666 - val_loss: 0.5986 - val_accuracy: 0.8491\n",
            "Epoch 11/20\n",
            "410/410 [==============================] - ETA: 0s - loss: 0.5089 - accuracy: 0.8697\n",
            "Epoch 00011: val_loss did not improve from 0.59858\n",
            "410/410 [==============================] - 79s 192ms/step - loss: 0.5089 - accuracy: 0.8697 - val_loss: 0.6256 - val_accuracy: 0.8319\n",
            "Epoch 12/20\n",
            "410/410 [==============================] - ETA: 0s - loss: 0.5049 - accuracy: 0.8744\n",
            "Epoch 00012: val_loss did not improve from 0.59858\n",
            "410/410 [==============================] - 85s 206ms/step - loss: 0.5049 - accuracy: 0.8744 - val_loss: 0.6345 - val_accuracy: 0.8233\n",
            "Epoch 13/20\n",
            "410/410 [==============================] - ETA: 0s - loss: 0.5032 - accuracy: 0.8702\n",
            "Epoch 00013: val_loss improved from 0.59858 to 0.58739, saving model to bestmodel_10class.hdf5\n",
            "410/410 [==============================] - 82s 199ms/step - loss: 0.5032 - accuracy: 0.8702 - val_loss: 0.5874 - val_accuracy: 0.8470\n",
            "Epoch 14/20\n",
            "410/410 [==============================] - ETA: 0s - loss: 0.5046 - accuracy: 0.8734\n",
            "Epoch 00014: val_loss did not improve from 0.58739\n",
            "410/410 [==============================] - 80s 195ms/step - loss: 0.5046 - accuracy: 0.8734 - val_loss: 0.6125 - val_accuracy: 0.8319\n",
            "Epoch 15/20\n",
            "410/410 [==============================] - ETA: 0s - loss: 0.5125 - accuracy: 0.8670\n",
            "Epoch 00015: val_loss did not improve from 0.58739\n",
            "410/410 [==============================] - 93s 228ms/step - loss: 0.5125 - accuracy: 0.8670 - val_loss: 0.5980 - val_accuracy: 0.8470\n",
            "Epoch 16/20\n",
            "410/410 [==============================] - ETA: 0s - loss: 0.5038 - accuracy: 0.8708\n",
            "Epoch 00016: val_loss improved from 0.58739 to 0.57869, saving model to bestmodel_10class.hdf5\n",
            "410/410 [==============================] - 82s 200ms/step - loss: 0.5038 - accuracy: 0.8708 - val_loss: 0.5787 - val_accuracy: 0.8513\n",
            "Epoch 17/20\n",
            "410/410 [==============================] - ETA: 0s - loss: 0.5039 - accuracy: 0.8706\n",
            "Epoch 00017: val_loss did not improve from 0.57869\n",
            "410/410 [==============================] - 81s 196ms/step - loss: 0.5039 - accuracy: 0.8706 - val_loss: 0.6068 - val_accuracy: 0.8405\n",
            "Epoch 18/20\n",
            "410/410 [==============================] - ETA: 0s - loss: 0.5049 - accuracy: 0.8699\n",
            "Epoch 00018: val_loss did not improve from 0.57869\n",
            "410/410 [==============================] - 78s 190ms/step - loss: 0.5049 - accuracy: 0.8699 - val_loss: 0.5834 - val_accuracy: 0.8481\n",
            "Epoch 19/20\n",
            "410/410 [==============================] - ETA: 0s - loss: 0.4816 - accuracy: 0.8772\n",
            "Epoch 00019: val_loss did not improve from 0.57869\n",
            "410/410 [==============================] - 78s 190ms/step - loss: 0.4816 - accuracy: 0.8772 - val_loss: 0.5924 - val_accuracy: 0.8470\n",
            "Epoch 20/20\n",
            "410/410 [==============================] - ETA: 0s - loss: 0.4892 - accuracy: 0.8760\n",
            "Epoch 00020: val_loss did not improve from 0.57869\n",
            "410/410 [==============================] - 78s 191ms/step - loss: 0.4892 - accuracy: 0.8760 - val_loss: 0.6351 - val_accuracy: 0.8416\n"
          ]
        }
      ]
    },
    {
      "cell_type": "code",
      "source": [
        "K.clear_session()\n",
        "model_best = load_model('bestmodel_10class.hdf5',compile = False)\n",
        "model_best.compile(optimizer=keras.optimizers.Adam(), loss='categorical_crossentropy', metrics=['accuracy'])"
      ],
      "metadata": {
        "id": "UHFVnvxQhVkt"
      },
      "execution_count": 43,
      "outputs": []
    },
    {
      "cell_type": "code",
      "source": [
        "model_best.evaluate(test_generator)"
      ],
      "metadata": {
        "colab": {
          "base_uri": "https://localhost:8080/"
        },
        "id": "N29sbmgrhQmP",
        "outputId": "f9b47a42-8b23-4cf4-c20d-3158ae279d61"
      },
      "execution_count": 44,
      "outputs": [
        {
          "output_type": "stream",
          "name": "stdout",
          "text": [
            "157/157 [==============================] - 19s 97ms/step - loss: 0.4815 - accuracy: 0.8788\n"
          ]
        },
        {
          "output_type": "execute_result",
          "data": {
            "text/plain": [
              "[0.4815438985824585, 0.8787999749183655]"
            ]
          },
          "metadata": {},
          "execution_count": 44
        }
      ]
    },
    {
      "cell_type": "code",
      "source": [
        "acc = history.history['accuracy']\n",
        "val_acc = history.history['val_accuracy']\n",
        "\n",
        "loss = history.history['loss']\n",
        "val_loss = history.history['val_loss']\n",
        "\n",
        "acc += history_fine.history['accuracy']\n",
        "val_acc += history_fine.history['val_accuracy']\n",
        "\n",
        "loss += history_fine.history['loss']\n",
        "val_loss += history_fine.history['val_loss']"
      ],
      "metadata": {
        "id": "dGeRn-VtfEzR"
      },
      "execution_count": 40,
      "outputs": []
    },
    {
      "cell_type": "code",
      "source": [
        "plt.figure(figsize=(8, 8))\n",
        "plt.subplot(2, 1, 1)\n",
        "plt.plot(acc, label='Training Accuracy')\n",
        "plt.plot(val_acc, label='Validation Accuracy')\n",
        "# plt.ylim([0.8, 1])\n",
        "plt.plot([epochs-1,epochs-1],\n",
        "          plt.ylim(), label='Start Fine Tuning')\n",
        "plt.legend(loc='lower right')\n",
        "plt.title('Training and Validation Accuracy')\n",
        "\n",
        "plt.subplot(2, 1, 2)\n",
        "plt.plot(loss, label='Training Loss')\n",
        "plt.plot(val_loss, label='Validation Loss')\n",
        "# plt.ylim([0, 1.0])\n",
        "plt.plot([epochs-1,epochs-1],\n",
        "         plt.ylim(), label='Start Fine Tuning')\n",
        "plt.legend(loc='upper right')\n",
        "plt.title('Training and Validation Loss')\n",
        "plt.xlabel('epoch')\n",
        "plt.show()"
      ],
      "metadata": {
        "colab": {
          "base_uri": "https://localhost:8080/",
          "height": 513
        },
        "id": "OeXo8YCffIBA",
        "outputId": "83b59bf6-344d-4b16-aa70-b51ec74d63fa"
      },
      "execution_count": 41,
      "outputs": [
        {
          "output_type": "display_data",
          "data": {
            "image/png": "[encoded data removed]",
            "text/plain": [
              "<Figure size 576x576 with 2 Axes>"
            ]
          },
          "metadata": {
            "needs_background": "light"
          }
        }
      ]
    }
  ]
}